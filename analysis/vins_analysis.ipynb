{
 "cells": [
  {
   "cell_type": "code",
   "execution_count": 1,
   "metadata": {},
   "outputs": [],
   "source": [
    "# built-in\n",
    "import os\n",
    "from datetime import datetime\n",
    "\n",
    "from dataclasses import dataclass\n",
    "from typing import Dict, List, Tuple, Union, Callable, Optional\n",
    "from enum import Enum\n",
    "\n",
    "# 3rd party lib\n",
    "import pandas as pd\n",
    "import numpy as np\n",
    "import yaml\n",
    "\n",
    "import matplotlib.pyplot as plt\n",
    "\n",
    "# ros:\n",
    "import rosbag\n",
    "\n",
    "# 3rd party util\n",
    "from icecream import ic"
   ]
  },
  {
   "cell_type": "code",
   "execution_count": 2,
   "metadata": {},
   "outputs": [],
   "source": [
    "# ours:\n",
    "from uwarl_helper.uwarl_util import create_all_folders\n",
    "from uwarl_bag_utils.bag_parser import BagParser, TYPES_VAR\n",
    "from uwarl_bag_utils.uwarl_common import PARSER_CALLBACKS"
   ]
  },
  {
   "cell_type": "code",
   "execution_count": 3,
   "metadata": {},
   "outputs": [],
   "source": [
    "BP = BagParser(PARSER_CALLBACKS)"
   ]
  },
  {
   "cell_type": "code",
   "execution_count": 4,
   "metadata": {},
   "outputs": [],
   "source": [
    "DIRECTORY = \"/home/jx/.ros/bag_replay_recorder_files\"\n",
    "BAG_DICT = {\n",
    "    \"EE1-RVR-Pt-L/R\": \"EE-1-8_S5-E30_8_DEMO_23_recording_2023-04-06-16-18-37_2023-04-11-11-25-29.bag\",\n",
    "    \"EE1-FWD-Pt-U/D\": \"EE-1-9_S5-E30_9_DEMO_18_recording_2023-04-06-16-19-17_2023-04-11-11-26-32.bag\",\n",
    "    \"EE1-RVR-Pt-U/D\": \"EE-1-10_S5-E30_10_DEMO_24_recording_2023-04-06-16-20-02_2023-04-11-11-27-38.bag\",\n",
    "}\n",
    "\n",
    "FIG_OUT_DIR = \"/home/jx/UWARL_catkin_ws/src/vins-research-pkg/research-project/output/vins_analysis\"\n",
    "\n",
    "class AnalysisManager:\n",
    "    _auto_save :bool = True\n",
    "    _auto_close :bool = False # Turn on to close all figures after saving\n",
    "    _output_dir :str = FIG_OUT_DIR\n",
    "    \n",
    "    def __init__(self, output_dir: str=FIG_OUT_DIR, bag_dict: Dict[str, str]=BAG_DICT, run_name: str=\"vins_analysis\"):\n",
    "        # create output folder\n",
    "        self._create_dir(output_dir, run_name)\n",
    "        # save info\n",
    "        self._save_info(bag_dict=bag_dict)\n",
    "    \n",
    "    def _create_dir(self, output_dir: str, run_name: str):\n",
    "        self._output_dir = f\"{output_dir}/{run_name}\"\n",
    "        create_all_folders(self._output_dir)\n",
    "\n",
    "    def _save_info(self, bag_dict: Dict[str, str]):\n",
    "        if self._auto_save:\n",
    "            with open(f\"{self._output_dir}/info.yaml\", \"w\") as f:\n",
    "                yaml.dump(bag_dict, f)\n",
    "            \n",
    "    def save_fig(self, fig, tag):\n",
    "        if self._auto_save:\n",
    "            fig.savefig(\"{}/plot_{}.png\".format(self._output_dir, tag), bbox_inches = 'tight')\n",
    "        if self._auto_close:\n",
    "            plt.close(fig)\n",
    "\n",
    "AM = AnalysisManager(run_name=\"run_{}\".format(datetime.now().strftime(\"%Y-%m-%d_%H\")))"
   ]
  },
  {
   "cell_type": "code",
   "execution_count": 5,
   "metadata": {},
   "outputs": [],
   "source": [
    "class ProcessedData:\n",
    "    def __init__(self, DIRECTORY, BAG_PATH):\n",
    "        self._bag_path = BAG_PATH\n",
    "        # load bag file\n",
    "        BP.bind_bagfile(bagfile=f\"{DIRECTORY}/{BAG_PATH}\")\n",
    "        BP.load_bag_topics()\n",
    "        self.bag_info = BP.get_bag_info_safe()\n",
    "        self.bag_topics = BP.get_bag_topics_lut_safe()\n",
    "        BP.process_all_bag_msgs()\n",
    "        self.bag_data = BP.get_processed_bag_safe()\n",
    "        # unbind toolchain\n",
    "        BP.unbind_bagfile()\n",
    "        self._init_process()\n",
    "    \n",
    "    def _init_process(self):\n",
    "        self.T0=datetime.fromtimestamp(self.bag_info[\"start\"])\n",
    "        self.T1=datetime.fromtimestamp(self.bag_info[\"end\"])\n",
    "        self.dT = (self.T1 - self.T0).total_seconds()\n",
    "        \n",
    "        prefix = self._bag_path.split(\"_recording_\")[0]\n",
    "        ic(prefix)\n",
    "        unique_id, t_window, run_id, _, demo_id = prefix.split(\"_\")\n",
    "        \n",
    "        self.description = {\n",
    "            \"cam-session-run\": unique_id,\n",
    "            \"dt\": t_window,\n",
    "            \"demo\": demo_id,\n",
    "        }\n",
    "        ic(self.description)\n",
    "        "
   ]
  },
  {
   "cell_type": "code",
   "execution_count": 6,
   "metadata": {},
   "outputs": [
    {
     "name": "stderr",
     "output_type": "stream",
     "text": [
      "/home/jx/UWARL_catkin_ws/src/waterloo_steel/waterloo_steel_demo/waterloo_steel_analyzer/src/uwarl_bag_utils/bag_parser.py:105: YAMLLoadWarning: calling yaml.load() without Loader=... is deprecated, as the default Loader is unsafe. Please read https://msg.pyyaml.org/load for full details.\n",
      "  self._info_dict = yaml.load(self._bag_data._get_yaml_info())\n",
      "ic| prefix: 'EE-1-8_S5-E30_8_DEMO_23'\n",
      "ic| self.description: {'cam-session-run': 'EE-1-8', 'demo': '23', 'dt': 'S5-E30'}\n",
      "ic| prefix: 'EE-1-9_S5-E30_9_DEMO_18'\n",
      "ic| self.description: {'cam-session-run': 'EE-1-9', 'demo': '18', 'dt': 'S5-E30'}\n",
      "ic| prefix: 'EE-1-10_S5-E30_10_DEMO_24'\n",
      "ic| self.description: {'cam-session-run': 'EE-1-10', 'demo': '24', 'dt': 'S5-E30'}\n"
     ]
    }
   ],
   "source": [
    "pData={}\n",
    "for label, path in BAG_DICT.items():\n",
    "    pData[label] = ProcessedData(DIRECTORY, path)"
   ]
  },
  {
   "cell_type": "code",
   "execution_count": 7,
   "metadata": {},
   "outputs": [],
   "source": [
    "class Battery_Plot:\n",
    "    DEFAULT_FIGSIZE = (5, 5)\n",
    "    # list of data:\n",
    "    list_of_note = []\n",
    "    list_of_battery_v = []\n",
    "    list_of_dT_s = []\n",
    "    list_of_bag_labels = []\n",
    "    N_bags = 0\n",
    "    NAME: str = None\n",
    "    \n",
    "    def __init__(self, bags: Dict[str, ProcessedData]): \n",
    "        for label, data in bags.items():\n",
    "            self.N_bags += 1\n",
    "            self.list_of_bag_labels.append(label)\n",
    "            self.list_of_note.append(\n",
    "                data.description)\n",
    "            self.list_of_battery_v.append(\n",
    "                data.bag_data[\"/uwarl/robotnik_base_hw/voltage\"][TYPES_VAR.VOLTAGE])\n",
    "            self.list_of_dT_s.append(data.dT)\n",
    "        \n",
    "        ic(np.shape(self.list_of_battery_v))\n",
    "        \n",
    "    def plot_concatenated(self):\n",
    "        N_bags = self.N_bags\n",
    "        # concatenate all the data:\n",
    "        dT_s = np.sum(self.list_of_dT_s)\n",
    "        battery_v = np.concatenate(self.list_of_battery_v)\n",
    "        # plot the battery:\n",
    "        t_s = np.arange(0, dT_s, dT_s/len(battery_v))\n",
    "        fig = plt.figure(figsize=(self.DEFAULT_FIGSIZE[0]*N_bags, self.DEFAULT_FIGSIZE[1]))\n",
    "        plt.plot(t_s, battery_v)\n",
    "        plt.xlabel(\"Time (s)\")\n",
    "        plt.ylabel(\"Voltage (V)\")\n",
    "        plt.title(f\"Waterloo Steel Voltage over Time ({N_bags} bags)\")\n",
    "        \n",
    "        # (Auto-label) Segment bag files:\n",
    "        t_end = 0\n",
    "        y_range = plt.ylim()\n",
    "        # if N_bags > 1:\n",
    "        plt.axvline(x=0, color = 'r', ls='--', alpha=0.5)\n",
    "        for i in range(N_bags):\n",
    "            # segment bag_files\n",
    "            t_end += self.list_of_dT_s[i]\n",
    "            label = self.list_of_bag_labels[i]\n",
    "            plt.axvline(x=t_end, color = 'r', ls='--', alpha=0.5)\n",
    "            plt.text(t_end, y_range[1], f\" [{label}]\", color='r', verticalalignment='top', horizontalalignment='right')\n",
    "        AM.save_fig(fig, \"battery_concatenated.png\")\n",
    "\n",
    "    def plot_comparison(self):\n",
    "        list_of_t_s = []\n",
    "        N_bags = self.N_bags\n",
    "        fig = plt.figure(figsize=self.DEFAULT_FIGSIZE)\n",
    "        plt.xlabel(\"Time (hours)\")\n",
    "        plt.ylabel(\"Voltage (V)\")\n",
    "        plt.title(f\"Waterloo Steel Voltage over Time ({N_bags} bags)\")\n",
    "        for i in range(N_bags):\n",
    "            dT_s = self.list_of_dT_s[i]\n",
    "            battery_v = self.list_of_battery_v[i]\n",
    "            t_s = np.arange(0, dT_s, dT_s/len(battery_v))\n",
    "            plt.plot(t_s, battery_v, label=self.list_of_bag_labels[i])\n",
    "        plt.legend()\n",
    "        AM.save_fig(fig, \"battery_comparison.png\")\n",
    "    \n",
    "    "
   ]
  },
  {
   "cell_type": "code",
   "execution_count": 8,
   "metadata": {},
   "outputs": [
    {
     "name": "stderr",
     "output_type": "stream",
     "text": [
      "/home/jx/.local/lib/python3.8/site-packages/numpy/core/fromnumeric.py:2009: VisibleDeprecationWarning: Creating an ndarray from ragged nested sequences (which is a list-or-tuple of lists-or-tuples-or ndarrays with different lengths or shapes) is deprecated. If you meant to do this, you must specify 'dtype=object' when creating the ndarray.\n",
      "  result = asarray(a).shape\n",
      "ic| np.shape(self.list_of_battery_v): (3,)\n"
     ]
    }
   ],
   "source": [
    "BatPlot = Battery_Plot(pData)\n",
    "BatPlot.plot_concatenated()\n",
    "BatPlot.plot_comparison()\n",
    "\n"
   ]
  }
 ],
 "metadata": {
  "kernelspec": {
   "display_name": "Python 3",
   "language": "python",
   "name": "python3"
  },
  "language_info": {
   "codemirror_mode": {
    "name": "ipython",
    "version": 3
   },
   "file_extension": ".py",
   "mimetype": "text/x-python",
   "name": "python",
   "nbconvert_exporter": "python",
   "pygments_lexer": "ipython3",
   "version": "3.8.10"
  },
  "orig_nbformat": 4
 },
 "nbformat": 4,
 "nbformat_minor": 2
}
